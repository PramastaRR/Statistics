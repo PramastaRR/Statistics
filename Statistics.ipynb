{
 "cells": [
  {
   "cell_type": "markdown",
   "metadata": {},
   "source": [
    "# Statistics\n",
    "\n",
    "This ~~simple~~ program is used for computing the distribution of data.\n",
    "\n",
    "Devoted to fulfill my Statistics assignment."
   ]
  },
  {
   "cell_type": "code",
   "execution_count": 1,
   "metadata": {
    "collapsed": true
   },
   "outputs": [],
   "source": [
    "from statistics import *"
   ]
  },
  {
   "cell_type": "markdown",
   "metadata": {},
   "source": [
    "# Data\n",
    "---\n",
    "\n",
    "By Default the progam has data that created from [here](https://github.com/samayo/country-data/blob/master/src/country-avg-male-height.json). To display the data I create a function called `cetak()`."
   ]
  },
  {
   "cell_type": "markdown",
   "metadata": {},
   "source": [
    "### cetak()"
   ]
  },
  {
   "cell_type": "code",
   "execution_count": 2,
   "metadata": {
    "collapsed": false
   },
   "outputs": [
    {
     "name": "stdout",
     "output_type": "stream",
     "text": [
      "170.20 171.30 176.30 177.00 172.00 165.60 176.60 169.50 160.30 170.00 \n",
      "174.30 169.20 168.30 169.50 177.60 178.30 170.40 178.80 170.30 175.80 \n",
      "177.10 178.40 174.10 170.00 177.40 169.80 175.70 168.50 175.30 179.80 \n",
      "162.30 161.50 170.60 165.40 175.00 175.00 173.20 172.80 168.60 174.20 \n",
      "175.00 178.00 166.00 166.00 172.50 167.50 166.40 170.70 181.00 175.50 \n",
      "165.00 163.80 179.70 167.00 169.00 164.30 162.00 176.00 170.50 172.00 \n",
      "175.00 173.00 176.50 166.60 178.10 170.00 171.00 172.00 166.00 179.30 \n",
      "176.50 171.00 169.30 166.40 170.30 174.10 175.00 175.40 176.40 171.80 \n",
      "173.40 169.00 162.10 "
     ]
    }
   ],
   "source": [
    "cetak()"
   ]
  },
  {
   "cell_type": "markdown",
   "metadata": {},
   "source": [
    "### masuk([*Path*])\n",
    "This function is used if you want to enter a new set of data. Without `Path` declared, you can enter the data one by one manually."
   ]
  },
  {
   "cell_type": "code",
   "execution_count": 3,
   "metadata": {
    "collapsed": false
   },
   "outputs": [
    {
     "name": "stdout",
     "output_type": "stream",
     "text": [
      "Masukkan jumlah data: 10\n",
      "#  1 | 7\n",
      "#  2 | 38\n",
      "#  3 | 46\n",
      "#  4 | 14\n",
      "#  5 | 14\n",
      "#  6 | 31\n",
      "#  7 | 42\n",
      "#  8 | 24\n",
      "#  9 | 2\n",
      "# 10 | 14\n",
      " 7.00 38.00 46.00 14.00 14.00 31.00 42.00 24.00  2.00 14.00 \n"
     ]
    }
   ],
   "source": [
    "masuk()\n",
    "cetak()"
   ]
  },
  {
   "cell_type": "markdown",
   "metadata": {},
   "source": [
    "\n",
    "Program will separate data by new line. So, make sure you followed the format file, e. g. [contoh_data.txt](contoh_data.txt)."
   ]
  },
  {
   "cell_type": "code",
   "execution_count": 4,
   "metadata": {
    "collapsed": false
   },
   "outputs": [
    {
     "name": "stdout",
     "output_type": "stream",
     "text": [
      " 7.00 38.00 46.00 14.00 31.00 42.00 24.00  2.00 14.00 21.00 \n",
      " 1.00 11.00 49.00 30.00 45.00 10.00 40.00  5.00 31.00 48.00 \n",
      " 9.00 27.00 31.00 25.00 22.00 10.00 49.00  3.00 44.00 18.00 \n",
      "43.00 49.00 21.00 34.00 31.00 37.00 17.00 14.00 19.00  2.00 \n",
      "43.00 35.00 14.00  9.00 38.00 40.00 30.00 50.00  3.00 19.00 \n"
     ]
    }
   ],
   "source": [
    "masuk('contoh_data.txt')\n",
    "cetak()"
   ]
  },
  {
   "cell_type": "markdown",
   "metadata": {},
   "source": [
    "### reset()\n",
    "\n",
    "This function will reset data to default data."
   ]
  },
  {
   "cell_type": "code",
   "execution_count": 6,
   "metadata": {
    "collapsed": false
   },
   "outputs": [
    {
     "name": "stdout",
     "output_type": "stream",
     "text": [
      "170.20 171.30 176.30 177.00 172.00 165.60 176.60 169.50 160.30 170.00 \n",
      "174.30 169.20 168.30 169.50 177.60 178.30 170.40 178.80 170.30 175.80 \n",
      "177.10 178.40 174.10 170.00 177.40 169.80 175.70 168.50 175.30 179.80 \n",
      "162.30 161.50 170.60 165.40 175.00 175.00 173.20 172.80 168.60 174.20 \n",
      "175.00 178.00 166.00 166.00 172.50 167.50 166.40 170.70 181.00 175.50 \n",
      "165.00 163.80 179.70 167.00 169.00 164.30 162.00 176.00 170.50 172.00 \n",
      "175.00 173.00 176.50 166.60 178.10 170.00 171.00 172.00 166.00 179.30 \n",
      "176.50 171.00 169.30 166.40 170.30 174.10 175.00 175.40 176.40 171.80 \n",
      "173.40 169.00 162.10 "
     ]
    }
   ],
   "source": [
    "reset()\n",
    "cetak()"
   ]
  },
  {
   "cell_type": "markdown",
   "metadata": {},
   "source": [
    "## Distribusi Frekuensi\n",
    "\n",
    "To make *Distribusi Frekuensi* table you need some requirements, such as:\n",
    "- *Jumlah Data* (Data's Length)\n",
    "- *Nilai Tertinggi* (Maximum Datum)\n",
    "- *Nilai Terendah* (Minimun Datum)\n",
    "- *Jangkauan* (Range/Interval)\n",
    "- *Jumlah Kelas* (Number of Classes)\n",
    "- *Lebar Kelas* (Width Class)"
   ]
  },
  {
   "cell_type": "code",
   "execution_count": 7,
   "metadata": {
    "collapsed": false
   },
   "outputs": [
    {
     "name": "stdout",
     "output_type": "stream",
     "text": [
      "Distribusi Frekuensi\n",
      "Jumlah Data  :    83\n",
      "Maximum      : 181.0\n",
      "Minimum      : 160.3\n",
      "Jangkauan    :  20.7\n",
      "Jumlah Kelas :     8\n",
      "Lebar Kelas  :     3\n"
     ]
    }
   ],
   "source": [
    "menu_df()"
   ]
  },
  {
   "cell_type": "markdown",
   "metadata": {},
   "source": [
    "Please note that you need to check if all the data have already in one of classess. If not, then you need to fix it manually. In this case, you have to add the value of *Batas Atas*.\n",
    "\n",
    "In some cases, you have to change the value of *Jumlah Kelas* [TODO]."
   ]
  },
  {
   "cell_type": "code",
   "execution_count": 8,
   "metadata": {
    "collapsed": false
   },
   "outputs": [
    {
     "name": "stdout",
     "output_type": "stream",
     "text": [
      "+-------------------------------------------------------------------------------------------------+\n",
      "| No |     Kelas     | Titik Tengah | Frekuensi |  F. Relatif |  F. Kumulatif |       F. RK       |\n",
      "+-------------------------------------------------------------------------------------------------+\n",
      "|  1 | 160.0 - 162.0 |       161.00 |         3 |       3.6 % |     0 |    83 |   0.0 % | 100.0 % |\n",
      "|  2 | 163.0 - 165.0 |       164.00 |         3 |       3.6 % |     3 |    80 |   3.6 % |  96.4 % |\n",
      "|  3 | 166.0 - 168.0 |       167.00 |         8 |       9.6 % |     6 |    77 |   7.2 % |  92.8 % |\n",
      "|  4 | 169.0 - 171.0 |       170.00 |        19 |      22.9 % |    14 |    69 |  16.9 % |  83.1 % |\n",
      "|  5 | 172.0 - 174.0 |       173.00 |         8 |       9.6 % |    33 |    50 |  39.8 % |  60.2 % |\n",
      "|  6 | 175.0 - 177.0 |       176.00 |        17 |      20.5 % |    41 |    42 |  49.4 % |  50.6 % |\n",
      "|  7 | 178.0 - 180.0 |       179.00 |         8 |       9.6 % |    58 |    25 |  69.9 % |  30.1 % |\n",
      "|  8 | 181.0 - 183.0 |       182.00 |         1 |       1.2 % |    66 |    17 |  79.5 % |  20.5 % |\n",
      "+-------------------------------------------------------------------------------------------------+\n",
      "|                                   |        67 |      80.7 % |    67 |    16 |  80.7 % |  19.3 % |\n",
      "+-------------------------------------------------------------------------------------------------+\n",
      "[ Menampilkan 67 / 83 ]. Dibutuhkan koreksi manual: 0.9\n",
      "\n",
      "+-------------------------------------------------------------------------------------------------+\n",
      "| No |     Kelas     | Titik Tengah | Frekuensi |  F. Relatif |  F. Kumulatif |       F. RK       |\n",
      "+-------------------------------------------------------------------------------------------------+\n",
      "|  1 | 160.0 - 162.9 |       161.45 |         5 |       6.0 % |     0 |    83 |   0.0 % | 100.0 % |\n",
      "|  2 | 163.0 - 165.9 |       164.45 |         5 |       6.0 % |     5 |    78 |   6.0 % |  94.0 % |\n",
      "|  3 | 166.0 - 168.9 |       167.45 |        11 |      13.3 % |    10 |    73 |  12.0 % |  88.0 % |\n",
      "|  4 | 169.0 - 171.9 |       170.45 |        21 |      25.3 % |    21 |    62 |  25.3 % |  74.7 % |\n",
      "|  5 | 172.0 - 174.9 |       173.45 |        12 |      14.5 % |    42 |    41 |  50.6 % |  49.4 % |\n",
      "|  6 | 175.0 - 177.9 |       176.45 |        20 |      24.1 % |    54 |    29 |  65.1 % |  34.9 % |\n",
      "|  7 | 178.0 - 180.9 |       179.45 |         8 |       9.6 % |    74 |     9 |  89.2 % |  10.8 % |\n",
      "|  8 | 181.0 - 183.9 |       182.45 |         1 |       1.2 % |    82 |     1 |  98.8 % |   1.2 % |\n",
      "+-------------------------------------------------------------------------------------------------+\n",
      "|                                   |        83 |     100.0 % |    83 |     0 | 100.0 % |   0.0 % |\n",
      "+-------------------------------------------------------------------------------------------------+\n"
     ]
    }
   ],
   "source": [
    "tabel()"
   ]
  },
  {
   "cell_type": "markdown",
   "metadata": {},
   "source": [
    "## Ukuran Pusat"
   ]
  },
  {
   "cell_type": "code",
   "execution_count": 9,
   "metadata": {
    "collapsed": false
   },
   "outputs": [
    {
     "name": "stdout",
     "output_type": "stream",
     "text": [
      "Ukuran Pusat\n",
      "Mean          : 172.04\n",
      "Median        : 171.88\n",
      "Modus         : 170.53\n",
      "Rata-rata ukur:  1.997\n"
     ]
    }
   ],
   "source": [
    "menu_upt()"
   ]
  },
  {
   "cell_type": "markdown",
   "metadata": {},
   "source": [
    "## Ukuran Penyebaran"
   ]
  },
  {
   "cell_type": "code",
   "execution_count": 10,
   "metadata": {
    "collapsed": false
   },
   "outputs": [
    {
     "name": "stdout",
     "output_type": "stream",
     "text": [
      "Ukuran Penyebaran\n",
      "Range               : 20.700\n",
      "Range Quartil       :  3.653\n",
      "Simpangan Rata-rata :  4.212\n",
      "Ragam               : 25.230\n",
      "Simpangan Baku      :  5.023\n"
     ]
    }
   ],
   "source": [
    "menu_upb()"
   ]
  },
  {
   "cell_type": "markdown",
   "metadata": {},
   "source": [
    "## Quartil, Quantil, Tetril dan Persentil"
   ]
  },
  {
   "cell_type": "code",
   "execution_count": 11,
   "metadata": {
    "collapsed": false
   },
   "outputs": [
    {
     "data": {
      "text/plain": [
       "176.1875"
      ]
     },
     "execution_count": 11,
     "metadata": {},
     "output_type": "execute_result"
    }
   ],
   "source": [
    "quartil(3)"
   ]
  },
  {
   "cell_type": "code",
   "execution_count": 12,
   "metadata": {
    "collapsed": false
   },
   "outputs": [
    {
     "data": {
      "text/plain": [
       "173.89999999999998"
      ]
     },
     "execution_count": 12,
     "metadata": {},
     "output_type": "execute_result"
    }
   ],
   "source": [
    "quantil(3)"
   ]
  },
  {
   "cell_type": "code",
   "execution_count": 13,
   "metadata": {
    "collapsed": false
   },
   "outputs": [
    {
     "data": {
      "text/plain": [
       "175.565"
      ]
     },
     "execution_count": 13,
     "metadata": {},
     "output_type": "execute_result"
    }
   ],
   "source": [
    "tetril(7)"
   ]
  },
  {
   "cell_type": "code",
   "execution_count": 14,
   "metadata": {
    "collapsed": false
   },
   "outputs": [
    {
     "data": {
      "text/plain": [
       "176.31199999999998"
      ]
     },
     "execution_count": 14,
     "metadata": {},
     "output_type": "execute_result"
    }
   ],
   "source": [
    "persentil(76)"
   ]
  }
 ],
 "metadata": {
  "kernelspec": {
   "display_name": "Python 3",
   "language": "python",
   "name": "python3"
  },
  "language_info": {
   "codemirror_mode": {
    "name": "ipython",
    "version": 3
   },
   "file_extension": ".py",
   "mimetype": "text/x-python",
   "name": "python",
   "nbconvert_exporter": "python",
   "pygments_lexer": "ipython3",
   "version": "3.5.2"
  }
 },
 "nbformat": 4,
 "nbformat_minor": 1
}
